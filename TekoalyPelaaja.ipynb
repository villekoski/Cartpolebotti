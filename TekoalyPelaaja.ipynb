{
 "cells": [
  {
   "cell_type": "code",
   "execution_count": null,
   "id": "07e0aac0-0c84-4f98-9b71-570b961cfe88",
   "metadata": {},
   "outputs": [],
   "source": []
  },
  {
   "cell_type": "code",
   "execution_count": 8,
   "id": "43724206-df1a-4454-a4c8-e324e50ea30a",
   "metadata": {},
   "outputs": [],
   "source": [
    "import gym\n",
    "import random\n",
    "import numpy as np\n",
    "\n",
    "from tensorflow.keras.models import Sequential\n",
    "from tensorflow.keras.layers import Dense, Flatten\n",
    "from tensorflow.keras.optimizers import Adam\n",
    "\n",
    "from rl.agents import DQNAgent\n",
    "from rl.policy import BoltzmannQPolicy\n",
    "from rl.memory import SequentialMemory"
   ]
  },
  {
   "cell_type": "code",
   "execution_count": 9,
   "metadata": {},
   "outputs": [],
   "source": [
    "ymparisto = gym.make('CartPole-v0')\n",
    "tilat = ymparisto.observation_space.shape[0]\n",
    "liikkeet = ymparisto.action_space.n"
   ]
  },
  {
   "cell_type": "code",
   "execution_count": 10,
   "metadata": {},
   "outputs": [],
   "source": [
    "def mallin_rakennus(tilat, liikkeet):\n",
    "    malli = Sequential()\n",
    "    malli.add(Flatten(input_shape=(1,tilat)))\n",
    "    malli.add(Dense(24, activation='relu'))\n",
    "    malli.add(Dense(24, activation='relu'))\n",
    "    malli.add(Dense(liikkeet, activation ='linear'))\n",
    "    return malli\n",
    "    "
   ]
  },
  {
   "cell_type": "code",
   "execution_count": 11,
   "metadata": {},
   "outputs": [
    {
     "output_type": "stream",
     "name": "stdout",
     "text": [
      "Model: \"sequential_1\"\n_________________________________________________________________\nLayer (type)                 Output Shape              Param #   \n=================================================================\nflatten_1 (Flatten)          (None, 4)                 0         \n_________________________________________________________________\ndense_3 (Dense)              (None, 24)                120       \n_________________________________________________________________\ndense_4 (Dense)              (None, 24)                600       \n_________________________________________________________________\ndense_5 (Dense)              (None, 2)                 50        \n=================================================================\nTotal params: 770\nTrainable params: 770\nNon-trainable params: 0\n_________________________________________________________________\n"
     ]
    }
   ],
   "source": [
    "malli = mallin_rakennus(tilat, liikkeet)\n",
    "malli.summary()"
   ]
  },
  {
   "cell_type": "code",
   "execution_count": 12,
   "metadata": {},
   "outputs": [],
   "source": [
    "def agentin_rakennus(malli, liikkeet):\n",
    "    kaytanto = BoltzmannQPolicy()\n",
    "    muisti = SequentialMemory(limit=50000, window_length=1)\n",
    "    dqn = DQNAgent(model=malli, memory=muisti, policy=kaytanto,\n",
    "                   nb_actions=liikkeet, nb_steps_warmup=20, target_model_update=1e-2)\n",
    "    return dqn"
   ]
  },
  {
   "cell_type": "code",
   "execution_count": 13,
   "metadata": {
    "tags": []
   },
   "outputs": [
    {
     "output_type": "stream",
     "name": "stdout",
     "text": [
      "Training for 50000 steps ...\n",
      "Interval 1 (0 steps performed)\n",
      "10000/10000 [==============================] - 40s 4ms/step - reward: 1.0000\n",
      "110 episodes - episode_reward: 90.409 [11.000, 200.000] - loss: 3.207 - mae: 19.216 - mean_q: 38.966\n",
      "\n",
      "Interval 2 (10000 steps performed)\n",
      "10000/10000 [==============================] - 40s 4ms/step - reward: 1.0000\n",
      "55 episodes - episode_reward: 179.982 [150.000, 200.000] - loss: 4.534 - mae: 37.533 - mean_q: 75.768\n",
      "\n",
      "Interval 3 (20000 steps performed)\n",
      "10000/10000 [==============================] - 41s 4ms/step - reward: 1.0000\n",
      "58 episodes - episode_reward: 174.672 [125.000, 200.000] - loss: 4.203 - mae: 39.288 - mean_q: 78.997\n",
      "\n",
      "Interval 4 (30000 steps performed)\n",
      "10000/10000 [==============================] - 42s 4ms/step - reward: 1.0000\n",
      "54 episodes - episode_reward: 185.056 [131.000, 200.000] - loss: 3.310 - mae: 37.348 - mean_q: 75.120\n",
      "\n",
      "Interval 5 (40000 steps performed)\n",
      "10000/10000 [==============================] - 42s 4ms/step - reward: 1.0000\n",
      "done, took 206.235 seconds\n"
     ]
    },
    {
     "output_type": "execute_result",
     "data": {
      "text/plain": [
       "<tensorflow.python.keras.callbacks.History at 0x1fc73d16cf8>"
      ]
     },
     "metadata": {},
     "execution_count": 13
    }
   ],
   "source": [
    "dqn = agentin_rakennus(malli, liikkeet)\n",
    "dqn.compile(Adam(lr=1e-3), metrics=['mae'])\n",
    "dqn.fit(ymparisto, nb_steps=50000, visualize=False, verbose=1)"
   ]
  },
  {
   "cell_type": "code",
   "execution_count": 14,
   "metadata": {},
   "outputs": [],
   "source": [
    "dqn.save_weights('dqn_weights.h5f', overwrite=True)"
   ]
  },
  {
   "cell_type": "code",
   "execution_count": 15,
   "id": "e34199f8-0247-46c0-81fd-d629474c55ff",
   "metadata": {},
   "outputs": [],
   "source": [
    "ymparisto2 = gym.make('CartPole-v0')\n",
    "liikkeet = ymparisto2.action_space.n\n",
    "tilat = ymparisto2.observation_space.shape[0]\n",
    "malli = mallin_rakennus(tilat, liikkeet)\n",
    "dqn = agentin_rakennus(malli, liikkeet)\n",
    "dqn.compile(Adam(lr=1e-3), metrics=['mae'])"
   ]
  },
  {
   "cell_type": "code",
   "execution_count": 16,
   "id": "079fd1d0-d42b-4196-b16f-c57135b7b173",
   "metadata": {},
   "outputs": [],
   "source": [
    "dqn.load_weights('dqn_weights.h5f')"
   ]
  },
  {
   "cell_type": "code",
   "execution_count": 17,
   "id": "e2845a9e-0de3-4665-baa9-70a7f4dcab21",
   "metadata": {},
   "outputs": [
    {
     "output_type": "stream",
     "name": "stdout",
     "text": [
      "Testing for 10 episodes ...\n",
      "Episode 1: reward: 200.000, steps: 200\n",
      "Episode 2: reward: 200.000, steps: 200\n",
      "Episode 3: reward: 200.000, steps: 200\n",
      "Episode 4: reward: 200.000, steps: 200\n",
      "Episode 5: reward: 200.000, steps: 200\n",
      "Episode 6: reward: 200.000, steps: 200\n",
      "Episode 7: reward: 200.000, steps: 200\n",
      "Episode 8: reward: 200.000, steps: 200\n",
      "Episode 9: reward: 200.000, steps: 200\n",
      "Episode 10: reward: 200.000, steps: 200\n"
     ]
    }
   ],
   "source": [
    "testi = dqn.test(ymparisto2, nb_episodes=10, visualize=True)"
   ]
  },
  {
   "cell_type": "code",
   "execution_count": null,
   "metadata": {},
   "outputs": [],
   "source": []
  }
 ],
 "metadata": {
  "kernelspec": {
   "name": "python370jvsc74a57bd0b8e8889d2ed9c1869965e3528dd57cb3e495eb84a1a257b1d43dd6ffe79cc3a2",
   "display_name": "Python 3.7.0 64-bit"
  },
  "language_info": {
   "codemirror_mode": {
    "name": "ipython",
    "version": 3
   },
   "file_extension": ".py",
   "mimetype": "text/x-python",
   "name": "python",
   "nbconvert_exporter": "python",
   "pygments_lexer": "ipython3",
   "version": "3.7.0"
  }
 },
 "nbformat": 4,
 "nbformat_minor": 5
}