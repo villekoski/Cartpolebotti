{
 "cells": [
  {
   "cell_type": "code",
   "execution_count": null,
   "id": "07e0aac0-0c84-4f98-9b71-570b961cfe88",
   "metadata": {},
   "outputs": [],
   "source": []
  },
  {
   "cell_type": "code",
   "execution_count": null,
   "id": "43724206-df1a-4454-a4c8-e324e50ea30a",
   "metadata": {},
   "outputs": [],
   "source": [
    "import gym\n",
    "import random\n",
    "import numpy as np\n",
    "\n",
    "from tensorflow.keras.models import Sequential\n",
    "from tensorflow.keras.layers import Dense, Flatten\n",
    "from tensorflow.keras.optimizers import Adam\n",
    "\n",
    "from rl.agents import DQNAgent\n",
    "from rl.policy import BoltzmannQPolicy\n",
    "from rl.memory import SequentialMemory"
   ]
  },
  {
   "cell_type": "code",
   "execution_count": null,
   "metadata": {},
   "outputs": [],
   "source": [
    "ymparisto = gym.make('CartPole-v0')\n",
    "tilat = ymparisto.observation_space.shape[0]\n",
    "liikkeet = ymparisto.action_space.n"
   ]
  },
  {
   "cell_type": "code",
   "execution_count": null,
   "metadata": {},
   "outputs": [],
   "source": [
    "def mallin_rakennus(tilat, liikkeet):\n",
    "    malli = Sequential()\n",
    "    malli.add(Flatten(input_shape=(1,tilat)))\n",
    "    malli.add(Dense(24, activation='relu'))\n",
    "    malli.add(Dense(24, activation='relu'))\n",
    "    malli.add(Dense(liikkeet, activation ='linear'))\n",
    "    return malli\n",
    "    "
   ]
  },
  {
   "cell_type": "code",
   "execution_count": null,
   "metadata": {},
   "outputs": [],
   "source": [
    "malli = mallin_rakennus(tilat, liikkeet)\n",
    "malli.summary()"
   ]
  },
  {
   "cell_type": "code",
   "execution_count": null,
   "metadata": {},
   "outputs": [],
   "source": [
    "def agentin_rakennus(malli, liikkeet):\n",
    "    kaytanto = BoltzmannQPolicy()\n",
    "    muisti = SequentialMemory(limit=60000, window_length=1)\n",
    "    dqn = DQNAgent(model=malli, memory=muisti, policy=kaytanto,\n",
    "                   nb_actions=liikkeet, nb_steps_warmup=20, target_model_update=1e-2)\n",
    "    return dqn"
   ]
  },
  {
   "cell_type": "code",
   "execution_count": null,
   "metadata": {
    "tags": []
   },
   "outputs": [],
   "source": [
    "dqn = agentin_rakennus(malli, liikkeet)\n",
    "dqn.compile(Adam(lr=1e-3), metrics=['mae'])\n",
    "dqn.fit(ymparisto, nb_steps=60000, visualize=False, verbose=1)"
   ]
  },
  {
   "cell_type": "code",
   "execution_count": null,
   "metadata": {},
   "outputs": [],
   "source": [
    "dqn.save_weights('dqn_weights.h5f', overwrite=True)"
   ]
  },
  {
   "cell_type": "code",
   "execution_count": null,
   "id": "e34199f8-0247-46c0-81fd-d629474c55ff",
   "metadata": {},
   "outputs": [],
   "source": [
    "ymparisto2 = gym.make('CartPole-v0')\n",
    "liikkeet = ymparisto2.action_space.n\n",
    "tilat = ymparisto2.observation_space.shape[0]\n",
    "malli = mallin_rakennus(tilat, liikkeet)\n",
    "dqn = agentin_rakennus(malli, liikkeet)\n",
    "dqn.compile(Adam(lr=1e-3), metrics=['mae'])"
   ]
  },
  {
   "cell_type": "code",
   "execution_count": null,
   "id": "079fd1d0-d42b-4196-b16f-c57135b7b173",
   "metadata": {},
   "outputs": [],
   "source": [
    "dqn.load_weights('dqn_weights.h5f')"
   ]
  },
  {
   "cell_type": "code",
   "execution_count": null,
   "id": "e2845a9e-0de3-4665-baa9-70a7f4dcab21",
   "metadata": {},
   "outputs": [],
   "source": [
    "testi = dqn.test(ymparisto2, nb_episodes=10, visualize=True)"
   ]
  },
  {
   "cell_type": "code",
   "execution_count": null,
   "metadata": {},
   "outputs": [],
   "source": []
  }
 ],
 "metadata": {
  "kernelspec": {
   "name": "python370jvsc74a57bd0b8e8889d2ed9c1869965e3528dd57cb3e495eb84a1a257b1d43dd6ffe79cc3a2",
   "display_name": "Python 3.7.0 64-bit"
  },
  "language_info": {
   "codemirror_mode": {
    "name": "ipython",
    "version": 3
   },
   "file_extension": ".py",
   "mimetype": "text/x-python",
   "name": "python",
   "nbconvert_exporter": "python",
   "pygments_lexer": "ipython3",
   "version": "3.7.0"
  }
 },
 "nbformat": 4,
 "nbformat_minor": 5
}