{
 "metadata": {
  "language_info": {
   "codemirror_mode": {
    "name": "ipython",
    "version": 3
   },
   "file_extension": ".py",
   "mimetype": "text/x-python",
   "name": "python",
   "nbconvert_exporter": "python",
   "pygments_lexer": "ipython3",
   "version": "3.7.0"
  },
  "orig_nbformat": 2,
  "kernelspec": {
   "name": "python370jvsc74a57bd0b8e8889d2ed9c1869965e3528dd57cb3e495eb84a1a257b1d43dd6ffe79cc3a2",
   "display_name": "Python 3.7.0 64-bit"
  }
 },
 "nbformat": 4,
 "nbformat_minor": 2,
 "cells": [
  {
   "cell_type": "code",
   "execution_count": 1,
   "metadata": {},
   "outputs": [],
   "source": [
    "import gym\n",
    "import random"
   ]
  },
  {
   "cell_type": "code",
   "execution_count": 2,
   "metadata": {},
   "outputs": [],
   "source": [
    "PELI = 'CartPole-v1'"
   ]
  },
  {
   "cell_type": "code",
   "execution_count": 3,
   "metadata": {},
   "outputs": [],
   "source": [
    "ymparisto = gym.make(PELI)\n",
    "tilat = ymparisto.observation_space.shape[0]\n",
    "liikkeet = ymparisto.action_space.n"
   ]
  },
  {
   "cell_type": "code",
   "execution_count": 4,
   "metadata": {},
   "outputs": [
    {
     "output_type": "stream",
     "name": "stdout",
     "text": [
      "Kierros:1 Pisteet:17.0\n",
      "Kierros:2 Pisteet:12.0\n",
      "Kierros:3 Pisteet:11.0\n",
      "Kierros:4 Pisteet:28.0\n",
      "Kierros:5 Pisteet:16.0\n",
      "Kierros:6 Pisteet:43.0\n",
      "Kierros:7 Pisteet:45.0\n",
      "Kierros:8 Pisteet:13.0\n",
      "Kierros:9 Pisteet:25.0\n",
      "Kierros:10 Pisteet:11.0\n",
      "Kierros:11 Pisteet:17.0\n",
      "Kierros:12 Pisteet:68.0\n",
      "Kierros:13 Pisteet:19.0\n",
      "Kierros:14 Pisteet:31.0\n",
      "Kierros:15 Pisteet:38.0\n",
      "Kierros:16 Pisteet:32.0\n",
      "Kierros:17 Pisteet:20.0\n",
      "Kierros:18 Pisteet:13.0\n",
      "Kierros:19 Pisteet:15.0\n",
      "Kierros:20 Pisteet:25.0\n",
      "Kierros:21 Pisteet:48.0\n",
      "Kierros:22 Pisteet:22.0\n",
      "Kierros:23 Pisteet:22.0\n",
      "Kierros:24 Pisteet:12.0\n",
      "Kierros:25 Pisteet:14.0\n",
      "Kierros:26 Pisteet:11.0\n",
      "Kierros:27 Pisteet:13.0\n",
      "Kierros:28 Pisteet:18.0\n",
      "Kierros:29 Pisteet:11.0\n",
      "Kierros:30 Pisteet:17.0\n",
      "Kierros:31 Pisteet:13.0\n",
      "Kierros:32 Pisteet:20.0\n",
      "Kierros:33 Pisteet:13.0\n",
      "Kierros:34 Pisteet:22.0\n",
      "Kierros:35 Pisteet:46.0\n",
      "Kierros:36 Pisteet:35.0\n",
      "Kierros:37 Pisteet:25.0\n",
      "Kierros:38 Pisteet:11.0\n",
      "Kierros:39 Pisteet:21.0\n",
      "Kierros:40 Pisteet:13.0\n"
     ]
    }
   ],
   "source": [
    "kierrokset = 40\n",
    "for kierros in range(1, kierrokset+1):\n",
    "    tila = ymparisto.reset()\n",
    "    valmis = False\n",
    "    pisteet = 0\n",
    "    \n",
    "    while not valmis:\n",
    "        ymparisto.render()\n",
    "        liike = random.choice([1,0])\n",
    "        n_state, reward, valmis, info = ymparisto.step(liike)\n",
    "        pisteet+=reward\n",
    "        #print('liike:{}'.format(liike))\n",
    "    print('Kierros:{} Pisteet:{}'.format(kierros, pisteet))"
   ]
  },
  {
   "cell_type": "code",
   "execution_count": null,
   "metadata": {},
   "outputs": [],
   "source": []
  }
 ]
}