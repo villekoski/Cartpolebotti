{
 "metadata": {
  "language_info": {
   "codemirror_mode": {
    "name": "ipython",
    "version": 3
   },
   "file_extension": ".py",
   "mimetype": "text/x-python",
   "name": "python",
   "nbconvert_exporter": "python",
   "pygments_lexer": "ipython3",
   "version": "3.7.0"
  },
  "orig_nbformat": 2,
  "kernelspec": {
   "name": "python370jvsc74a57bd0b8e8889d2ed9c1869965e3528dd57cb3e495eb84a1a257b1d43dd6ffe79cc3a2",
   "display_name": "Python 3.7.0 64-bit"
  }
 },
 "nbformat": 4,
 "nbformat_minor": 2,
 "cells": [
  {
   "cell_type": "code",
   "execution_count": 1,
   "metadata": {},
   "outputs": [],
   "source": [
    "import gym\n",
    "import random"
   ]
  },
  {
   "cell_type": "code",
   "execution_count": 2,
   "metadata": {},
   "outputs": [],
   "source": [
    "PELI = 'CartPole-v1'"
   ]
  },
  {
   "cell_type": "code",
   "execution_count": 4,
   "metadata": {},
   "outputs": [],
   "source": [
    "ymparisto = gym.make(PELI)\n",
    "tilat = ymparisto.observation_space.shape[0]\n",
    "liikkeet = ymparisto.action_space.n"
   ]
  },
  {
   "cell_type": "code",
   "execution_count": 8,
   "metadata": {},
   "outputs": [],
   "source": [
    "kierrokset = 10\n",
    "for kierros in range(1, kierrokset+1):\n",
    "    tila = ymparisto.reset()\n",
    "    valmis = False\n",
    "    pisteet = 0\n",
    "    \n",
    "    while not valmis:\n",
    "        ymparisto.render()\n",
    "        liike = random.choice([1,0])\n",
    "        n_state, reward, valmis, info = ymparisto.step(liike)\n",
    "        pisteet+=reward\n",
    "        #print('liike:{}'.format(liike))\n",
    "    print('Kierros:{} Pisteet:{}'.format(kierros, pisteet))"
   ]
  },
  {
   "cell_type": "code",
   "execution_count": null,
   "metadata": {},
   "outputs": [],
   "source": []
  }
 ]
}